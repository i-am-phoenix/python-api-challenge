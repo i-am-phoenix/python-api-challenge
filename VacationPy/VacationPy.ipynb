{
 "cells": [
  {
   "cell_type": "code",
   "execution_count": 1,
   "metadata": {},
   "outputs": [],
   "source": [
    "# Itinializing the Jopyter Notebook file VacationPy.ipynb"
   ]
  },
  {
   "cell_type": "code",
   "execution_count": 2,
   "metadata": {},
   "outputs": [],
   "source": [
    "# Importing relevant dependencies \n",
    "import requests\n",
    "import json\n",
    "import pandas as pd\n",
    "import numpy as np\n",
    "from config import api_key\n",
    "\n",
    "# Importing gmaps and Google API key\n",
    "import gmaps\n",
    "from config import gkey\n",
    "\n",
    "# Access maps with unique API key\n",
    "gmaps.configure(api_key=gkey)"
   ]
  },
  {
   "cell_type": "code",
   "execution_count": 3,
   "metadata": {},
   "outputs": [
    {
     "data": {
      "text/html": [
       "<div>\n",
       "<style scoped>\n",
       "    .dataframe tbody tr th:only-of-type {\n",
       "        vertical-align: middle;\n",
       "    }\n",
       "\n",
       "    .dataframe tbody tr th {\n",
       "        vertical-align: top;\n",
       "    }\n",
       "\n",
       "    .dataframe thead th {\n",
       "        text-align: right;\n",
       "    }\n",
       "</style>\n",
       "<table border=\"1\" class=\"dataframe\">\n",
       "  <thead>\n",
       "    <tr style=\"text-align: right;\">\n",
       "      <th></th>\n",
       "      <th>City name</th>\n",
       "      <th>Country name</th>\n",
       "      <th>Longitude</th>\n",
       "      <th>Latitude</th>\n",
       "      <th>Temperature, F</th>\n",
       "      <th>Humidity, %</th>\n",
       "      <th>Cloudiness, %</th>\n",
       "      <th>Wind speed, mph</th>\n",
       "      <th>Hemisphere</th>\n",
       "    </tr>\n",
       "  </thead>\n",
       "  <tbody>\n",
       "    <tr>\n",
       "      <th>0</th>\n",
       "      <td>aasiaat</td>\n",
       "      <td>gl</td>\n",
       "      <td>-53.464459</td>\n",
       "      <td>71.022578</td>\n",
       "      <td>35.53</td>\n",
       "      <td>85</td>\n",
       "      <td>96</td>\n",
       "      <td>2.75</td>\n",
       "      <td>Northern</td>\n",
       "    </tr>\n",
       "    <tr>\n",
       "      <th>1</th>\n",
       "      <td>aban</td>\n",
       "      <td>ru</td>\n",
       "      <td>96.046101</td>\n",
       "      <td>57.006436</td>\n",
       "      <td>44.65</td>\n",
       "      <td>50</td>\n",
       "      <td>4</td>\n",
       "      <td>2.71</td>\n",
       "      <td>Northern</td>\n",
       "    </tr>\n",
       "    <tr>\n",
       "      <th>2</th>\n",
       "      <td>abu samrah</td>\n",
       "      <td>qa</td>\n",
       "      <td>49.980118</td>\n",
       "      <td>20.223969</td>\n",
       "      <td>95.22</td>\n",
       "      <td>11</td>\n",
       "      <td>0</td>\n",
       "      <td>4.97</td>\n",
       "      <td>Northern</td>\n",
       "    </tr>\n",
       "    <tr>\n",
       "      <th>3</th>\n",
       "      <td>acapulco</td>\n",
       "      <td>mx</td>\n",
       "      <td>-107.577970</td>\n",
       "      <td>2.133108</td>\n",
       "      <td>82.83</td>\n",
       "      <td>55</td>\n",
       "      <td>100</td>\n",
       "      <td>0.94</td>\n",
       "      <td>Northern</td>\n",
       "    </tr>\n",
       "    <tr>\n",
       "      <th>4</th>\n",
       "      <td>acari</td>\n",
       "      <td>pe</td>\n",
       "      <td>-75.100356</td>\n",
       "      <td>-18.049583</td>\n",
       "      <td>74.16</td>\n",
       "      <td>59</td>\n",
       "      <td>95</td>\n",
       "      <td>2.32</td>\n",
       "      <td>Southern</td>\n",
       "    </tr>\n",
       "  </tbody>\n",
       "</table>\n",
       "</div>"
      ],
      "text/plain": [
       "    City name Country name   Longitude   Latitude  Temperature, F  \\\n",
       "0     aasiaat           gl  -53.464459  71.022578           35.53   \n",
       "1        aban           ru   96.046101  57.006436           44.65   \n",
       "2  abu samrah           qa   49.980118  20.223969           95.22   \n",
       "3    acapulco           mx -107.577970   2.133108           82.83   \n",
       "4       acari           pe  -75.100356 -18.049583           74.16   \n",
       "\n",
       "   Humidity, %  Cloudiness, %  Wind speed, mph Hemisphere  \n",
       "0           85             96             2.75   Northern  \n",
       "1           50              4             2.71   Northern  \n",
       "2           11              0             4.97   Northern  \n",
       "3           55            100             0.94   Northern  \n",
       "4           59             95             2.32   Southern  "
      ]
     },
     "execution_count": 3,
     "metadata": {},
     "output_type": "execute_result"
    }
   ],
   "source": [
    "# Read in cities from WeatherPy output\n",
    "city_data=pd.read_csv(\"../WeatherPy/city_data.csv\")\n",
    "city_data.head()"
   ]
  },
  {
   "cell_type": "code",
   "execution_count": 4,
   "metadata": {},
   "outputs": [],
   "source": [
    "# Set figure dimensions\n",
    "figure_layout = {\n",
    "    'width': '100%',\n",
    "    'height': '600px',\n",
    "    'border': '1px solid black',\n",
    "    'padding': '1px',\n",
    "    'margin': '0 auto 0 auto'\n",
    "}"
   ]
  },
  {
   "cell_type": "code",
   "execution_count": 5,
   "metadata": {},
   "outputs": [],
   "source": [
    "# Create a list, which would contain lon, lat coordinates"
   ]
  },
  {
   "cell_type": "code",
   "execution_count": 6,
   "metadata": {},
   "outputs": [
    {
     "data": {
      "application/vnd.jupyter.widget-view+json": {
       "model_id": "d7775c004fcd42dd94ebba5cfd051a72",
       "version_major": 2,
       "version_minor": 0
      },
      "text/plain": [
       "Figure(layout=FigureLayout(border='1px solid black', height='600px', margin='0 auto 0 auto', padding='1px', wi…"
      ]
     },
     "metadata": {},
     "output_type": "display_data"
    }
   ],
   "source": [
    "# Set up gmap with a marker layer containing heatmap of the humidity (%)\n",
    "locations = city_data[['Latitude', 'Longitude']]\n",
    "weights = city_data['Humidity, %']\n",
    "fig = gmaps.figure(layout=figure_layout)\n",
    "fig.add_layer(gmaps.heatmap_layer(locations, weights=weights, dissipating=False, max_intensity=200,\n",
    "                                 point_radius=4))\n",
    "fig\n"
   ]
  },
  {
   "cell_type": "code",
   "execution_count": 7,
   "metadata": {},
   "outputs": [],
   "source": [
    "# Narrow down the DataFrame to find your ideal weather condition. For example:\n",
    "# A max temperature lower than 80 degrees but higher than 70.\n",
    "# Wind speed less than 10 mph.\n",
    "# Zero cloudiness.\n",
    "# Drop any rows that don't contain all three conditions. You want to be sure the weather is ideal.\n",
    "# Note: Feel free to adjust to your specifications but be sure to limit the number of rows returned by your API requests to a reasonable number.\n",
    "\n",
    "# Set up weather conditions to filter city_data dataset\n",
    "max_temp=75.0\n",
    "min_temp=70.0\n",
    "max_wind=10.0\n",
    "max_cloud=0.0\n",
    "\n",
    "city_data_ideal=city_data[(city_data['Temperature, F']  >  min_temp)  & \n",
    "                          (city_data['Temperature, F']  <  max_temp)  &\n",
    "                          (city_data['Cloudiness, %']   == max_cloud) &\n",
    "                          (city_data['Wind speed, mph'] <  max_wind)]\n"
   ]
  },
  {
   "cell_type": "code",
   "execution_count": 8,
   "metadata": {},
   "outputs": [
    {
     "data": {
      "text/plain": [
       "(1000, 12)"
      ]
     },
     "execution_count": 8,
     "metadata": {},
     "output_type": "execute_result"
    }
   ],
   "source": [
    "len(city_data), len(city_data_ideal)"
   ]
  },
  {
   "cell_type": "code",
   "execution_count": 16,
   "metadata": {},
   "outputs": [
    {
     "name": "stdout",
     "output_type": "stream",
     "text": [
      "17         albacete, es\n",
      "33        ambovombe, mg\n",
      "91           beloha, mg\n",
      "248       ewa beach, us\n",
      "470         lubango, ao\n",
      "723    richards bay, za\n",
      "762        san juan, ar\n",
      "839         susehri, tr\n",
      "973         xixiang, cn\n",
      "983        yinchuan, cn\n",
      "986           yumen, cn\n",
      "991         zhangye, cn\n",
      "dtype: object\n"
     ]
    },
    {
     "data": {
      "application/vnd.jupyter.widget-view+json": {
       "model_id": "d7775c004fcd42dd94ebba5cfd051a72",
       "version_major": 2,
       "version_minor": 0
      },
      "text/plain": [
       "Figure(layout=FigureLayout(border='1px solid black', height='600px', margin='0 auto 0 auto', padding='1px', wi…"
      ]
     },
     "metadata": {},
     "output_type": "display_data"
    }
   ],
   "source": [
    "# Use lat,lon coordinates of select cities to place markers\n",
    "ideal_locations = city_data_ideal[['Latitude', 'Longitude']]\n",
    "print(city_data_ideal['City name'] + \", \" + city_data_ideal['Country name'])\n",
    "\n",
    "city_label_list=(city_data_ideal['City name'] + \", \" + city_data_ideal['Country name']).tolist()\n",
    "\n",
    "# Create a marker_layer using the poverty list to fill the info box\n",
    "markers = gmaps.marker_layer(ideal_locations,\n",
    "    info_box_content=[f\"Testing: {city}\" for city in city_label_list])\n",
    "fig.add_layer(markers)\n",
    "fig"
   ]
  },
  {
   "cell_type": "code",
   "execution_count": 10,
   "metadata": {},
   "outputs": [
    {
     "ename": "NameError",
     "evalue": "name 'types_df' is not defined",
     "output_type": "error",
     "traceback": [
      "\u001b[1;31m---------------------------------------------------------------------------\u001b[0m",
      "\u001b[1;31mNameError\u001b[0m                                 Traceback (most recent call last)",
      "\u001b[1;32m<ipython-input-10-53eaa0258450>\u001b[0m in \u001b[0;36m<module>\u001b[1;34m\u001b[0m\n\u001b[0;32m      9\u001b[0m }\n\u001b[0;32m     10\u001b[0m \u001b[1;31m# use iterrows to iterate through pandas dataframe\u001b[0m\u001b[1;33m\u001b[0m\u001b[1;33m\u001b[0m\u001b[1;33m\u001b[0m\u001b[0m\n\u001b[1;32m---> 11\u001b[1;33m \u001b[1;32mfor\u001b[0m \u001b[0mindex\u001b[0m\u001b[1;33m,\u001b[0m \u001b[0mrow\u001b[0m \u001b[1;32min\u001b[0m \u001b[0mtypes_df\u001b[0m\u001b[1;33m.\u001b[0m\u001b[0miterrows\u001b[0m\u001b[1;33m(\u001b[0m\u001b[1;33m)\u001b[0m\u001b[1;33m:\u001b[0m\u001b[1;33m\u001b[0m\u001b[1;33m\u001b[0m\u001b[0m\n\u001b[0m\u001b[0;32m     12\u001b[0m \u001b[1;33m\u001b[0m\u001b[0m\n\u001b[0;32m     13\u001b[0m     \u001b[1;31m# get restaurant type from df\u001b[0m\u001b[1;33m\u001b[0m\u001b[1;33m\u001b[0m\u001b[1;33m\u001b[0m\u001b[0m\n",
      "\u001b[1;31mNameError\u001b[0m: name 'types_df' is not defined"
     ]
    }
   ],
   "source": [
    "# find the closest hotel within 5000 meters of city coordinates\n",
    "\n",
    "base_url = \"https://maps.googleapis.com/maps/api/place/nearbysearch/json\"\n",
    "params = {\n",
    "    \"location\": \"39.952583,-75.16522\",  # philadelphia coords\n",
    "    \"rankby\": \"distance\",\n",
    "    \"type\": \"hotel\",\n",
    "    \"key\": gkey,\n",
    "}\n",
    "# use iterrows to iterate through pandas dataframe\n",
    "for index, row in types_df.iterrows():\n",
    "\n",
    "    # get restaurant type from df\n",
    "    restr_type = row['ethnicity']\n",
    "\n",
    "    # add keyword to params dict\n",
    "    params['keyword'] = restr_type\n",
    "\n",
    "    # assemble url and make API request\n",
    "    print(f\"Retrieving Results for Index {index}: {restr_type}.\")\n",
    "    response = requests.get(base_url, params=params).json()\n",
    "    \n",
    "    # extract results\n",
    "    results = response['results']\n",
    "    \n",
    "    try:\n",
    "        print(f\"Closest {restr_type} restaurant is {results[0]['name']}.\")\n",
    "        \n",
    "        types_df.loc[index, 'name'] = results[0]['name']\n",
    "        types_df.loc[index, 'address'] = results[0]['vicinity']\n",
    "        types_df.loc[index, 'price_level'] = results[0]['price_level']\n",
    "        types_df.loc[index, 'rating'] = results[0]['rating']\n",
    "        \n",
    "    except (KeyError, IndexError):\n",
    "        print(\"Missing field/result... skipping.\")"
   ]
  }
 ],
 "metadata": {
  "kernelspec": {
   "display_name": "Python [conda env:root] *",
   "language": "python",
   "name": "conda-root-py"
  },
  "language_info": {
   "codemirror_mode": {
    "name": "ipython",
    "version": 3
   },
   "file_extension": ".py",
   "mimetype": "text/x-python",
   "name": "python",
   "nbconvert_exporter": "python",
   "pygments_lexer": "ipython3",
   "version": "3.8.5"
  }
 },
 "nbformat": 4,
 "nbformat_minor": 4
}
