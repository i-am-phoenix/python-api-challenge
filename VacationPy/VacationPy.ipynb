{
 "cells": [
  {
   "cell_type": "code",
   "execution_count": 1,
   "metadata": {},
   "outputs": [],
   "source": [
    "# Itinializing the Jopyter Notebook file VacationPy.ipynb"
   ]
  },
  {
   "cell_type": "code",
   "execution_count": 2,
   "metadata": {},
   "outputs": [],
   "source": [
    "# Importing relevant dependencies \n",
    "import requests\n",
    "import json\n",
    "import pandas as pd\n",
    "import numpy as np\n",
    "from config import api_key\n",
    "\n",
    "# Importing gmaps and Google API key\n",
    "import gmaps\n",
    "from config import gkey\n",
    "\n",
    "# Access maps with unique API key\n",
    "gmaps.configure(api_key=gkey)"
   ]
  },
  {
   "cell_type": "code",
   "execution_count": 3,
   "metadata": {},
   "outputs": [
    {
     "data": {
      "text/html": [
       "<div>\n",
       "<style scoped>\n",
       "    .dataframe tbody tr th:only-of-type {\n",
       "        vertical-align: middle;\n",
       "    }\n",
       "\n",
       "    .dataframe tbody tr th {\n",
       "        vertical-align: top;\n",
       "    }\n",
       "\n",
       "    .dataframe thead th {\n",
       "        text-align: right;\n",
       "    }\n",
       "</style>\n",
       "<table border=\"1\" class=\"dataframe\">\n",
       "  <thead>\n",
       "    <tr style=\"text-align: right;\">\n",
       "      <th></th>\n",
       "      <th>City name</th>\n",
       "      <th>Longitude</th>\n",
       "      <th>Latitude</th>\n",
       "      <th>Temperature, F</th>\n",
       "      <th>Humidity, %</th>\n",
       "      <th>Cloudiness, %</th>\n",
       "      <th>Wind speed, mph</th>\n",
       "      <th>Hemisphere</th>\n",
       "    </tr>\n",
       "  </thead>\n",
       "  <tbody>\n",
       "    <tr>\n",
       "      <th>0</th>\n",
       "      <td>abalak</td>\n",
       "      <td>6.328933</td>\n",
       "      <td>15.646237</td>\n",
       "      <td>64.04</td>\n",
       "      <td>69</td>\n",
       "      <td>61</td>\n",
       "      <td>4.30</td>\n",
       "      <td>Northern</td>\n",
       "    </tr>\n",
       "    <tr>\n",
       "      <th>1</th>\n",
       "      <td>aban</td>\n",
       "      <td>95.980955</td>\n",
       "      <td>56.847955</td>\n",
       "      <td>51.13</td>\n",
       "      <td>36</td>\n",
       "      <td>100</td>\n",
       "      <td>6.39</td>\n",
       "      <td>Northern</td>\n",
       "    </tr>\n",
       "    <tr>\n",
       "      <th>2</th>\n",
       "      <td>abapo</td>\n",
       "      <td>-62.727416</td>\n",
       "      <td>-19.020615</td>\n",
       "      <td>57.29</td>\n",
       "      <td>82</td>\n",
       "      <td>51</td>\n",
       "      <td>1.47</td>\n",
       "      <td>Southern</td>\n",
       "    </tr>\n",
       "    <tr>\n",
       "      <th>3</th>\n",
       "      <td>abashiri</td>\n",
       "      <td>144.473037</td>\n",
       "      <td>43.812609</td>\n",
       "      <td>55.78</td>\n",
       "      <td>65</td>\n",
       "      <td>19</td>\n",
       "      <td>2.81</td>\n",
       "      <td>Northern</td>\n",
       "    </tr>\n",
       "    <tr>\n",
       "      <th>4</th>\n",
       "      <td>abaza</td>\n",
       "      <td>89.902477</td>\n",
       "      <td>52.131022</td>\n",
       "      <td>66.70</td>\n",
       "      <td>77</td>\n",
       "      <td>99</td>\n",
       "      <td>2.73</td>\n",
       "      <td>Northern</td>\n",
       "    </tr>\n",
       "  </tbody>\n",
       "</table>\n",
       "</div>"
      ],
      "text/plain": [
       "  City name   Longitude   Latitude  Temperature, F  Humidity, %  \\\n",
       "0    abalak    6.328933  15.646237           64.04           69   \n",
       "1      aban   95.980955  56.847955           51.13           36   \n",
       "2     abapo  -62.727416 -19.020615           57.29           82   \n",
       "3  abashiri  144.473037  43.812609           55.78           65   \n",
       "4     abaza   89.902477  52.131022           66.70           77   \n",
       "\n",
       "   Cloudiness, %  Wind speed, mph Hemisphere  \n",
       "0             61             4.30   Northern  \n",
       "1            100             6.39   Northern  \n",
       "2             51             1.47   Southern  \n",
       "3             19             2.81   Northern  \n",
       "4             99             2.73   Northern  "
      ]
     },
     "execution_count": 3,
     "metadata": {},
     "output_type": "execute_result"
    }
   ],
   "source": [
    "# Read in cities from WeatherPy output\n",
    "city_data=pd.read_csv(\"../WeatherPy/city_data.csv\")\n",
    "city_data.head()"
   ]
  },
  {
   "cell_type": "code",
   "execution_count": 12,
   "metadata": {},
   "outputs": [],
   "source": [
    "# Set figure dimensions\n",
    "figure_layout = {\n",
    "    'width': '100%',\n",
    "    'height': '600px',\n",
    "    'border': '1px solid black',\n",
    "    'padding': '1px',\n",
    "    'margin': '0 auto 0 auto'\n",
    "}"
   ]
  },
  {
   "cell_type": "code",
   "execution_count": 13,
   "metadata": {},
   "outputs": [],
   "source": [
    "# Create a list, which would contain lon, lat coordinates"
   ]
  },
  {
   "cell_type": "code",
   "execution_count": 30,
   "metadata": {},
   "outputs": [
    {
     "data": {
      "application/vnd.jupyter.widget-view+json": {
       "model_id": "9144a68f47814a45b46abb9220294799",
       "version_major": 2,
       "version_minor": 0
      },
      "text/plain": [
       "Figure(layout=FigureLayout(border='1px solid black', height='600px', margin='0 auto 0 auto', padding='1px', wi…"
      ]
     },
     "metadata": {},
     "output_type": "display_data"
    }
   ],
   "source": [
    "# Set up gmap with a marker layer containing heatmap of the humidity (%)\n",
    "locations = city_data[['Latitude', 'Longitude']]\n",
    "weights = city_data['Humidity, %']\n",
    "fig = gmaps.figure(layout=figure_layout)\n",
    "fig.add_layer(gmaps.heatmap_layer(locations, weights=weights, dissipating=False, max_intensity=200,\n",
    "                                 point_radius=4))\n",
    "fig\n"
   ]
  },
  {
   "cell_type": "code",
   "execution_count": 38,
   "metadata": {},
   "outputs": [],
   "source": [
    "# Narrow down the DataFrame to find your ideal weather condition. For example:\n",
    "# A max temperature lower than 80 degrees but higher than 70.\n",
    "# Wind speed less than 10 mph.\n",
    "# Zero cloudiness.\n",
    "# Drop any rows that don't contain all three conditions. You want to be sure the weather is ideal.\n",
    "# Note: Feel free to adjust to your specifications but be sure to limit the number of rows returned by your API requests to a reasonable number.\n",
    "\n",
    "# Set up weather conditions to filter city_data dataset\n",
    "max_temp=80.0\n",
    "min_temp=70.0\n",
    "max_wind=10.0\n",
    "max_cloud=0.0\n",
    "\n",
    "city_data_ideal=city_data[(city_data['Temperature, F']  >  min_temp)  & \n",
    "                          (city_data['Temperature, F']  <  max_temp)  &\n",
    "                          (city_data['Cloudiness, %']   == max_cloud) &\n",
    "                          (city_data['Wind speed, mph'] <  max_wind)]\n"
   ]
  },
  {
   "cell_type": "code",
   "execution_count": 39,
   "metadata": {},
   "outputs": [
    {
     "data": {
      "text/plain": [
       "(1000, 21)"
      ]
     },
     "execution_count": 39,
     "metadata": {},
     "output_type": "execute_result"
    }
   ],
   "source": [
    "len(city_data), len(city_data_ideal)"
   ]
  },
  {
   "cell_type": "code",
   "execution_count": 42,
   "metadata": {},
   "outputs": [
    {
     "data": {
      "application/vnd.jupyter.widget-view+json": {
       "model_id": "9144a68f47814a45b46abb9220294799",
       "version_major": 2,
       "version_minor": 0
      },
      "text/plain": [
       "Figure(layout=FigureLayout(border='1px solid black', height='600px', margin='0 auto 0 auto', padding='1px', wi…"
      ]
     },
     "metadata": {},
     "output_type": "display_data"
    }
   ],
   "source": [
    "# Use lat,lon coordinates of select cities to place markers\n",
    "ideal_locations = city_data_ideal[['Latitude', 'Longitude']]\n",
    "\n",
    "city_label_list=city_data_ideal['City name'].tolist()\n",
    "\n",
    "# Create a marker_layer using the poverty list to fill the info box\n",
    "markers = gmaps.marker_layer(ideal_locations,\n",
    "    info_box_content=[f\"Testing: {city}\" for city in city_label_list])\n",
    "fig.add_layer(markers)\n",
    "fig"
   ]
  },
  {
   "cell_type": "code",
   "execution_count": null,
   "metadata": {},
   "outputs": [],
   "source": [
    "# find the closest hotel within 5000 meters of city coordinates\n",
    "\n",
    "base_url = \"https://maps.googleapis.com/maps/api/place/nearbysearch/json\"\n",
    "params = {\n",
    "    \"location\": \"39.952583,-75.16522\",  # philadelphia coords\n",
    "    \"rankby\": \"distance\",\n",
    "    \"type\": \"hotel\",\n",
    "    \"key\": gkey,\n",
    "}\n",
    "# use iterrows to iterate through pandas dataframe\n",
    "for index, row in types_df.iterrows():\n",
    "\n",
    "    # get restaurant type from df\n",
    "    restr_type = row['ethnicity']\n",
    "\n",
    "    # add keyword to params dict\n",
    "    params['keyword'] = restr_type\n",
    "\n",
    "    # assemble url and make API request\n",
    "    print(f\"Retrieving Results for Index {index}: {restr_type}.\")\n",
    "    response = requests.get(base_url, params=params).json()\n",
    "    \n",
    "    # extract results\n",
    "    results = response['results']\n",
    "    \n",
    "    try:\n",
    "        print(f\"Closest {restr_type} restaurant is {results[0]['name']}.\")\n",
    "        \n",
    "        types_df.loc[index, 'name'] = results[0]['name']\n",
    "        types_df.loc[index, 'address'] = results[0]['vicinity']\n",
    "        types_df.loc[index, 'price_level'] = results[0]['price_level']\n",
    "        types_df.loc[index, 'rating'] = results[0]['rating']\n",
    "        \n",
    "    except (KeyError, IndexError):\n",
    "        print(\"Missing field/result... skipping.\")"
   ]
  }
 ],
 "metadata": {
  "kernelspec": {
   "display_name": "Python [conda env:root] *",
   "language": "python",
   "name": "conda-root-py"
  },
  "language_info": {
   "codemirror_mode": {
    "name": "ipython",
    "version": 3
   },
   "file_extension": ".py",
   "mimetype": "text/x-python",
   "name": "python",
   "nbconvert_exporter": "python",
   "pygments_lexer": "ipython3",
   "version": "3.8.5"
  }
 },
 "nbformat": 4,
 "nbformat_minor": 4
}
