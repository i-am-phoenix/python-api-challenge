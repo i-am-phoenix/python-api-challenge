{
 "cells": [
  {
   "cell_type": "code",
   "execution_count": null,
   "metadata": {},
   "outputs": [],
   "source": [
    "# Itinializing the Jopyter Notebook file WeatherPy.ipynb"
   ]
  },
  {
   "cell_type": "code",
   "execution_count": 1,
   "metadata": {},
   "outputs": [],
   "source": [
    "# Importing relevant modules \n",
    "import requests\n",
    "import json\n",
    "from config import api_key"
   ]
  },
  {
   "cell_type": "code",
   "execution_count": 2,
   "metadata": {},
   "outputs": [],
   "source": [
    "# Importing PrettyPrint module for a more readable JSON formatting\n",
    "from pprint import pprint"
   ]
  },
  {
   "cell_type": "code",
   "execution_count": 4,
   "metadata": {},
   "outputs": [],
   "source": [
    "# Import citypy \n",
    "from citipy import citipy"
   ]
  },
  {
   "cell_type": "code",
   "execution_count": 19,
   "metadata": {},
   "outputs": [
    {
     "data": {
      "text/plain": [
       "'saurimo'"
      ]
     },
     "execution_count": 19,
     "metadata": {},
     "output_type": "execute_result"
    }
   ],
   "source": [
    "city=citipy.nearest_city(-10.0,20.21)\n",
    "city.city_name"
   ]
  },
  {
   "cell_type": "code",
   "execution_count": 39,
   "metadata": {},
   "outputs": [
    {
     "name": "stdout",
     "output_type": "stream",
     "text": [
      "Sampling new city\n",
      "-53.68751012625631 -54.7484634792101\n",
      "Sampling new city\n",
      "-115.77863332597092 7.231680928832148\n",
      "Sampling new city\n",
      "36.87846147999156 61.21267148089481\n",
      "Sampling new city\n",
      "124.1145505524753 0.06959906554185125\n",
      "Sampling new city\n",
      "11.18720626473052 73.86502258046093\n",
      "Sampling new city\n",
      "13.748052244708106 17.911726111399176\n",
      "Sampling new city\n",
      "53.91728532419461 54.5343087647108\n",
      "Sampling new city\n",
      "40.695846902934875 -11.686505963015122\n",
      "Sampling new city\n",
      "-10.3776910785177 66.33782261873012\n",
      "Sampling new city\n",
      "-79.22144983001864 -36.31712107532428\n"
     ]
    }
   ],
   "source": [
    "# Initialize empty lists\n",
    "city_names=[]\n",
    "lat=[]\n",
    "lon=[]\n",
    "city_count=0\n",
    "\n",
    "from numpy import random\n",
    "random.random(1)[0]\n",
    "\n",
    "# set up while loop that will run until 500 valid city names are generated\n",
    "while city_count<10 :\n",
    "    print(\"Sampling new city\")\n",
    "    \n",
    "#   latitude values trange from -90 to 90 \n",
    "    rand_lat= -180 + 360 * random.random(1)[0]\n",
    "#   longitude ranges from -180 to 180  \n",
    "    rand_lon= -90 + 180 * random.random(1)[0]\n",
    "    city_count+=1"
   ]
  },
  {
   "cell_type": "code",
   "execution_count": null,
   "metadata": {},
   "outputs": [],
   "source": []
  },
  {
   "cell_type": "code",
   "execution_count": null,
   "metadata": {},
   "outputs": [],
   "source": []
  }
 ],
 "metadata": {
  "kernelspec": {
   "display_name": "Python [conda env:root] *",
   "language": "python",
   "name": "conda-root-py"
  },
  "language_info": {
   "codemirror_mode": {
    "name": "ipython",
    "version": 3
   },
   "file_extension": ".py",
   "mimetype": "text/x-python",
   "name": "python",
   "nbconvert_exporter": "python",
   "pygments_lexer": "ipython3",
   "version": "3.8.5"
  }
 },
 "nbformat": 4,
 "nbformat_minor": 4
}
