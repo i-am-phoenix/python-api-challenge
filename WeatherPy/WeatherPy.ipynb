{
 "cells": [
  {
   "cell_type": "code",
   "execution_count": null,
   "metadata": {},
   "outputs": [],
   "source": [
    "# Itinializing the Jopyter Notebook file WeatherPy.ipynb"
   ]
  },
  {
   "cell_type": "code",
   "execution_count": 1,
   "metadata": {},
   "outputs": [],
   "source": [
    "# Importing relevant modules \n",
    "import requests\n",
    "import json\n",
    "from config import api_key"
   ]
  },
  {
   "cell_type": "code",
   "execution_count": 2,
   "metadata": {},
   "outputs": [],
   "source": [
    "# Importing PrettyPrint module for a more readable JSON formatting\n",
    "from pprint import pprint"
   ]
  },
  {
   "cell_type": "code",
   "execution_count": 4,
   "metadata": {},
   "outputs": [],
   "source": [
    "# Import citypy \n",
    "from citipy import citipy"
   ]
  },
  {
   "cell_type": "code",
   "execution_count": 19,
   "metadata": {},
   "outputs": [
    {
     "data": {
      "text/plain": [
       "'saurimo'"
      ]
     },
     "execution_count": 19,
     "metadata": {},
     "output_type": "execute_result"
    }
   ],
   "source": [
    "city=citipy.nearest_city(-10.0,20.21)\n",
    "city.city_name"
   ]
  },
  {
   "cell_type": "code",
   "execution_count": null,
   "metadata": {},
   "outputs": [
    {
     "name": "stdout",
     "output_type": "stream",
     "text": [
      "vila franca do campo\n",
      "ushuaia\n",
      "torbay\n",
      "qaanaaq\n",
      "lagoa\n",
      ">>>>>    No city found\n",
      "stepnyak\n",
      "albany\n",
      "dikson\n",
      "gedzhukh\n",
      "tazovskiy\n",
      "mar del plata\n",
      "bredasdorp\n",
      "upernavik\n",
      "port alfred\n",
      "port elizabeth\n",
      "barra do garcas\n",
      "hambantota\n",
      "longyearbyen\n",
      "nieuw amsterdam\n",
      "ostrovnoy\n",
      ">>>>>    No city found\n",
      "bubaque\n",
      "barra do corda\n",
      "nantucket\n",
      "busselton\n",
      ">>>>>    No city found\n",
      "ribeira grande\n",
      "coswig\n",
      "ziarat\n",
      "henties bay\n",
      "luderitz\n",
      "cape town\n",
      ">>>>>    No city found\n",
      "kibala\n",
      "hamilton\n",
      "sao joao da barra\n",
      "luwingu\n",
      ">>>>>    No city found\n",
      "kutum\n",
      "east london\n",
      ">>>>>    No city found\n",
      "kokkola\n",
      "parrita\n",
      "abonnema\n",
      "bandarbeyla\n",
      "punta arenas\n",
      ">>>>>    No city found\n",
      "chuy\n",
      "shahrud\n",
      "vestmannaeyjar\n",
      "bilma\n",
      "jamestown\n",
      ">>>>>    No city found\n",
      "salalah\n",
      "kirkwall\n",
      "souillac\n",
      "hermanus\n",
      "narsaq\n",
      ">>>>>    No city found\n",
      "asekeyevo\n",
      "ilulissat\n",
      "ascension\n",
      "harper\n",
      "kavaratti\n",
      "laguna\n",
      "makat\n",
      "cayenne\n",
      "saint george\n",
      "los llanos de aridane\n",
      "mazamari\n",
      ">>>>>    No city found\n"
     ]
    }
   ],
   "source": [
    "# Initialize empty lists & city counter\n",
    "city_names=[]\n",
    "lat=[]\n",
    "lon=[]\n",
    "city_count=0\n",
    "\n",
    "temperature=[]\n",
    "humidity=[]\n",
    "cloudiness=[]\n",
    "wind_speed=[]\n",
    "\n",
    "# Setup base url for OpenWeatherMap API call\n",
    "base_url = \"http://api.openweathermap.org/data/2.5/weather?\"\n",
    "\n",
    "\n",
    "\n",
    "\n",
    "# Import numpy random for generating random range of latitude and longitude numbers  \n",
    "from numpy import random\n",
    "\n",
    "# set up while loop that will run until 500 valid city names are generated\n",
    "while city_count<100 :    \n",
    "#   latitude values trange from -90 to 90 \n",
    "    rand_lat= -180 + 360 * random.random(1)[0]\n",
    "    \n",
    "    #   longitude ranges from -180 to 180  \n",
    "    rand_lon= -90 + 180 * random.random(1)[0]\n",
    "    \n",
    "    try :\n",
    "        rand_city=citipy.nearest_city(rand_lat, rand_lon)\n",
    "        \n",
    "        if rand_city.city_name not in city_names:\n",
    "            \n",
    "            city_names.append(rand_city.city_name)\n",
    "            lat.append(rand_lat)\n",
    "            lon.append(rand_lon)\n",
    "            \n",
    "    #       Build query url based on teh name of the current selected city  \n",
    "            query_url = base_url + \"appid=\" + api_key + \"&q=\" + rand_city.city_name\n",
    "\n",
    "    #       Pull data from API and convert to json format  \n",
    "            weather_response = requests.get(query_url)\n",
    "            weather_json = weather_response.json()\n",
    "\n",
    "    #       Pull specific itemized data as requested as appedn to corresponding list\n",
    "            temp_F = round(( weather_json['main']['temp'] - 273.15 ) * 9 / 5 + 32, 2)\n",
    "            temperature.append(temp_F)\n",
    "\n",
    "            humidity_pct = weather_json['main']['humidity']\n",
    "            humidity.append(humidity_pct)\n",
    "\n",
    "            cloudiness_pct = weather_json['clouds']['all']\n",
    "            cloudiness.append(cloudiness_pct)\n",
    "\n",
    "            wind = weather_json['wind']['speed']\n",
    "            wind_speed.append(wind)\n",
    "\n",
    "            print(rand_city.city_name)\n",
    "\n",
    "            city_count+=1\n",
    "        else :\n",
    "            \">>>>>    City already sampled\"\n",
    "    except (ValueError, KeyError):\n",
    "        print(\">>>>>    No city found\")"
   ]
  },
  {
   "cell_type": "code",
   "execution_count": null,
   "metadata": {},
   "outputs": [],
   "source": [
    "# Import matplotlib and plot sampled points to check visually for good coverage/diversity \n",
    "import matplotlib.pyplot as plt\n",
    "\n",
    "plt.scatter(lon, lat)\n",
    "plt.xlabel(\"Longitude\")\n",
    "plt.ylabel(\"Latitude\")\n",
    "plt.title(\"Location of 1000 sampled cities (in lon&lat coordinates)\")"
   ]
  },
  {
   "cell_type": "code",
   "execution_count": 131,
   "metadata": {},
   "outputs": [
    {
     "data": {
      "text/plain": [
       "112"
      ]
     },
     "execution_count": 131,
     "metadata": {},
     "output_type": "execute_result"
    }
   ],
   "source": [
    "# Create dictionary of city names and associated lat, lon coordinates\n",
    "import pandas as pd\n",
    "\n",
    "len(city_names)\n",
    "\n",
    "# city_dict={\n",
    "#     \"City name\": city_names,\n",
    "#     'Longitude': lon,\n",
    "#     'Latitude': lat,\n",
    "#     'Temperature, F': temperature, \n",
    "# }\n",
    "# city_data=pd.DataFrame(city_dict)\n",
    "# city_data.head()"
   ]
  },
  {
   "cell_type": "code",
   "execution_count": 97,
   "metadata": {},
   "outputs": [
    {
     "data": {
      "text/plain": [
       "'http://api.openweathermap.org/data/2.5/weather?appid=0cb0504e124c591594132d882d112599&q=port alfred'"
      ]
     },
     "execution_count": 97,
     "metadata": {},
     "output_type": "execute_result"
    }
   ],
   "source": [
    "# Setup base url for OpenWeatherMap API call\n",
    "base_url = \"http://api.openweathermap.org/data/2.5/weather?\"\n",
    "\n",
    "# Building query URL\n",
    "query_url = base_url + \"appid=\" + api_key + \"&q=\" + city_data['City name'][0]\n",
    "query_url"
   ]
  },
  {
   "cell_type": "code",
   "execution_count": 98,
   "metadata": {},
   "outputs": [
    {
     "name": "stdout",
     "output_type": "stream",
     "text": [
      "{'base': 'stations',\n",
      " 'clouds': {'all': 96},\n",
      " 'cod': 200,\n",
      " 'coord': {'lat': -33.5906, 'lon': 26.891},\n",
      " 'dt': 1621961820,\n",
      " 'id': 964432,\n",
      " 'main': {'feels_like': 291.8,\n",
      "          'grnd_level': 1016,\n",
      "          'humidity': 83,\n",
      "          'pressure': 1018,\n",
      "          'sea_level': 1018,\n",
      "          'temp': 291.72,\n",
      "          'temp_max': 291.72,\n",
      "          'temp_min': 291.72},\n",
      " 'name': 'Port Alfred',\n",
      " 'sys': {'country': 'ZA', 'sunrise': 1621919048, 'sunset': 1621955697},\n",
      " 'timezone': 7200,\n",
      " 'visibility': 10000,\n",
      " 'weather': [{'description': 'overcast clouds',\n",
      "              'icon': '04n',\n",
      "              'id': 804,\n",
      "              'main': 'Clouds'}],\n",
      " 'wind': {'deg': 235, 'gust': 4.71, 'speed': 3.77}}\n"
     ]
    }
   ],
   "source": [
    "# Retriev weather data\n",
    "weather_response = requests.get(query_url)\n",
    "weather_json = weather_response.json()\n",
    "\n",
    "# Review the data API pulled\n",
    "pprint(weather_json)\n",
    "\n",
    "# Below fisrt work on setting up and troubleshooting calls to pull temperature in K \n",
    "# and convert to F, humidity (%), cloudiness (%) and wind speed (mph)"
   ]
  },
  {
   "cell_type": "code",
   "execution_count": 99,
   "metadata": {},
   "outputs": [
    {
     "data": {
      "text/plain": [
       "dict_keys(['coord', 'weather', 'base', 'main', 'visibility', 'wind', 'clouds', 'dt', 'sys', 'timezone', 'id', 'name', 'cod'])"
      ]
     },
     "execution_count": 99,
     "metadata": {},
     "output_type": "execute_result"
    }
   ],
   "source": [
    "weather_json.keys()"
   ]
  },
  {
   "cell_type": "code",
   "execution_count": 100,
   "metadata": {},
   "outputs": [
    {
     "data": {
      "text/plain": [
       "dict_keys(['temp', 'feels_like', 'temp_min', 'temp_max', 'pressure', 'humidity', 'sea_level', 'grnd_level'])"
      ]
     },
     "execution_count": 100,
     "metadata": {},
     "output_type": "execute_result"
    }
   ],
   "source": [
    "weather_json['main'].keys()"
   ]
  },
  {
   "cell_type": "code",
   "execution_count": 101,
   "metadata": {},
   "outputs": [
    {
     "data": {
      "text/plain": [
       "291.72"
      ]
     },
     "execution_count": 101,
     "metadata": {},
     "output_type": "execute_result"
    }
   ],
   "source": [
    "weather_json['main']['temp']"
   ]
  },
  {
   "cell_type": "code",
   "execution_count": 108,
   "metadata": {},
   "outputs": [
    {
     "data": {
      "text/plain": [
       "65.43"
      ]
     },
     "execution_count": 108,
     "metadata": {},
     "output_type": "execute_result"
    }
   ],
   "source": [
    "temp_F= ( weather_json['main']['temp'] - 273.15 ) * 9 / 5 + 32\n",
    "round(temp_F,2)"
   ]
  },
  {
   "cell_type": "code",
   "execution_count": 110,
   "metadata": {},
   "outputs": [
    {
     "data": {
      "text/plain": [
       "83"
      ]
     },
     "execution_count": 110,
     "metadata": {},
     "output_type": "execute_result"
    }
   ],
   "source": [
    "humidity_pct = weather_json['main']['humidity']\n",
    "humidity_pct"
   ]
  },
  {
   "cell_type": "code",
   "execution_count": 112,
   "metadata": {},
   "outputs": [
    {
     "data": {
      "text/plain": [
       "96"
      ]
     },
     "execution_count": 112,
     "metadata": {},
     "output_type": "execute_result"
    }
   ],
   "source": [
    "cloudiness_pct = weather_json['clouds']['all']"
   ]
  },
  {
   "cell_type": "code",
   "execution_count": 113,
   "metadata": {},
   "outputs": [
    {
     "data": {
      "text/plain": [
       "3.77"
      ]
     },
     "execution_count": 113,
     "metadata": {},
     "output_type": "execute_result"
    }
   ],
   "source": [
    "wind_speed = weather_json['wind']['speed']\n",
    "wind_speed"
   ]
  },
  {
   "cell_type": "code",
   "execution_count": null,
   "metadata": {},
   "outputs": [],
   "source": []
  }
 ],
 "metadata": {
  "kernelspec": {
   "display_name": "Python [conda env:root] *",
   "language": "python",
   "name": "conda-root-py"
  },
  "language_info": {
   "codemirror_mode": {
    "name": "ipython",
    "version": 3
   },
   "file_extension": ".py",
   "mimetype": "text/x-python",
   "name": "python",
   "nbconvert_exporter": "python",
   "pygments_lexer": "ipython3",
   "version": "3.8.5"
  }
 },
 "nbformat": 4,
 "nbformat_minor": 4
}
