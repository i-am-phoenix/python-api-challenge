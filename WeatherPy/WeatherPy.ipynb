{
 "cells": [
  {
   "cell_type": "code",
   "execution_count": null,
   "metadata": {},
   "outputs": [],
   "source": [
    "# Itinializing the Jopyter Notebook file WeatherPy.ipynb"
   ]
  },
  {
   "cell_type": "code",
   "execution_count": 156,
   "metadata": {},
   "outputs": [],
   "source": [
    "# Importing relevant modules \n",
    "import requests\n",
    "import json\n",
    "from config import api_key"
   ]
  },
  {
   "cell_type": "code",
   "execution_count": 157,
   "metadata": {},
   "outputs": [],
   "source": [
    "# Importing PrettyPrint module for a more readable JSON formatting\n",
    "from pprint import pprint"
   ]
  },
  {
   "cell_type": "code",
   "execution_count": 158,
   "metadata": {},
   "outputs": [],
   "source": [
    "# Import citypy \n",
    "from citipy import citipy"
   ]
  },
  {
   "cell_type": "code",
   "execution_count": 159,
   "metadata": {},
   "outputs": [
    {
     "data": {
      "text/plain": [
       "'saurimo'"
      ]
     },
     "execution_count": 159,
     "metadata": {},
     "output_type": "execute_result"
    }
   ],
   "source": [
    "city=citipy.nearest_city(-10.0,20.21)\n",
    "city.city_name"
   ]
  },
  {
   "cell_type": "code",
   "execution_count": 215,
   "metadata": {},
   "outputs": [
    {
     "name": "stdout",
     "output_type": "stream",
     "text": [
      "1\n",
      "2\n",
      "3\n",
      "4\n",
      "5\n",
      "6\n",
      "7\n",
      "8\n",
      "9\n",
      "10\n",
      "11\n",
      "12\n",
      "13\n",
      "14\n",
      "15\n",
      "16\n",
      "17\n",
      "18\n",
      "19\n",
      "------------------------------ City missing data:belushya guba\n",
      "------------------------------ City missing data:barentsburg\n",
      "20\n",
      "21\n",
      "22\n",
      "23\n",
      "24\n",
      "------------------------------ City missing data:barentsburg\n",
      "25\n",
      "26\n",
      "27\n",
      "28\n",
      "29\n",
      "30\n",
      "31\n",
      "32\n",
      "33\n",
      "------------------------------ City missing data:barentsburg\n",
      "------------------------------ City missing data:illoqqortoormiut\n",
      "34\n",
      "35\n",
      "36\n",
      "37\n",
      "38\n",
      "39\n",
      "------------------------------ City missing data:ambodifototra\n",
      "40\n",
      "41\n",
      "42\n",
      "43\n",
      "------------------------------ City missing data:illoqqortoormiut\n",
      "------------------------------ City missing data:taolanaro\n",
      "44\n",
      "45\n",
      "46\n",
      "47\n",
      "48\n",
      "49\n",
      "50\n",
      "51\n",
      "------------------------------ City missing data:illoqqortoormiut\n",
      "------------------------------ City missing data:amderma\n",
      "52\n",
      "53\n",
      "54\n",
      "55\n",
      "56\n",
      "57\n",
      "58\n",
      "59\n",
      "60\n",
      "61\n",
      "62\n",
      "------------------------------ City missing data:belushya guba\n",
      "------------------------------ City missing data:illoqqortoormiut\n",
      "63\n",
      "------------------------------ City missing data:belushya guba\n",
      "64\n",
      "65\n",
      "66\n",
      "67\n",
      "------------------------------ City missing data:barentsburg\n",
      "68\n",
      "69\n",
      "------------------------------ City missing data:jahrom\n",
      "70\n",
      "71\n",
      "------------------------------ City missing data:amderma\n",
      "72\n",
      "73\n",
      "74\n",
      "75\n",
      "76\n",
      "77\n",
      "------------------------------ City missing data:warqla\n",
      "78\n",
      "79\n",
      "80\n",
      "81\n",
      "82\n",
      "------------------------------ City missing data:mocambique\n",
      "83\n",
      "------------------------------ City missing data:illoqqortoormiut\n",
      "84\n",
      "------------------------------ City missing data:illoqqortoormiut\n",
      "85\n",
      "86\n",
      "------------------------------ City missing data:belushya guba\n",
      "87\n",
      "------------------------------ City missing data:illoqqortoormiut\n",
      "88\n",
      "89\n",
      "------------------------------ City missing data:barentsburg\n",
      "------------------------------ City missing data:illoqqortoormiut\n",
      "90\n",
      "------------------------------ City missing data:taolanaro\n",
      "------------------------------ City missing data:belushya guba\n",
      "91\n",
      "------------------------------ City missing data:belushya guba\n",
      "92\n",
      "93\n",
      "------------------------------ City missing data:illoqqortoormiut\n",
      "94\n",
      "------------------------------ City missing data:belushya guba\n",
      "95\n",
      "------------------------------ City missing data:barentsburg\n",
      "------------------------------ City missing data:taolanaro\n",
      "96\n",
      "97\n",
      "98\n",
      "99\n",
      "------------------------------ City missing data:barentsburg\n",
      "100\n",
      "------------------------------ City missing data:attawapiskat\n",
      "101\n",
      "102\n",
      "103\n",
      "104\n",
      "105\n",
      "------------------------------ City missing data:barentsburg\n",
      "106\n",
      "------------------------------ City missing data:barentsburg\n",
      "------------------------------ City missing data:belushya guba\n",
      "------------------------------ City missing data:belushya guba\n",
      "107\n",
      "------------------------------ City missing data:barentsburg\n",
      "------------------------------ City missing data:taolanaro\n",
      "------------------------------ City missing data:taolanaro\n",
      "------------------------------ City missing data:belushya guba\n",
      "------------------------------ City missing data:illoqqortoormiut\n",
      "------------------------------ City missing data:barentsburg\n",
      "------------------------------ City missing data:taolanaro\n",
      "------------------------------ City missing data:belushya guba\n",
      "108\n",
      "109\n",
      "110\n",
      "111\n",
      "------------------------------ City missing data:barentsburg\n",
      "------------------------------ City missing data:illoqqortoormiut\n",
      "112\n",
      "------------------------------ City missing data:belushya guba\n",
      "113\n",
      "------------------------------ City missing data:barentsburg\n",
      "------------------------------ City missing data:barentsburg\n",
      "------------------------------ City missing data:longlac\n",
      "114\n",
      "115\n",
      "------------------------------ City missing data:illoqqortoormiut\n",
      "------------------------------ City missing data:belushya guba\n",
      "------------------------------ City missing data:belushya guba\n",
      "116\n",
      "117\n",
      "118\n",
      "------------------------------ City missing data:belushya guba\n",
      "------------------------------ City missing data:belushya guba\n",
      "119\n",
      "120\n",
      "------------------------------ City missing data:taolanaro\n",
      "------------------------------ City missing data:barentsburg\n",
      "------------------------------ City missing data:belushya guba\n",
      "------------------------------ City missing data:illoqqortoormiut\n",
      "121\n",
      "------------------------------ City missing data:belushya guba\n",
      "122\n",
      "------------------------------ City missing data:vestbygda\n",
      "------------------------------ City missing data:illoqqortoormiut\n",
      "------------------------------ City missing data:warqla\n",
      "------------------------------ City missing data:barentsburg\n",
      "123\n",
      "124\n",
      "125\n",
      "126\n",
      "127\n",
      "128\n",
      "129\n",
      "130\n",
      "------------------------------ City missing data:illoqqortoormiut\n",
      "------------------------------ City missing data:taolanaro\n",
      "131\n",
      "132\n",
      "------------------------------ City missing data:amderma\n",
      "133\n",
      "134\n",
      "135\n",
      "136\n",
      "137\n",
      "------------------------------ City missing data:illoqqortoormiut\n",
      "138\n",
      "139\n",
      "------------------------------ City missing data:ybbs\n",
      "140\n",
      "141\n",
      "142\n",
      "143\n",
      "------------------------------ City missing data:barentsburg\n",
      "144\n",
      "145\n",
      "------------------------------ City missing data:illoqqortoormiut\n",
      "146\n",
      "147\n",
      "148\n",
      "149\n",
      "------------------------------ City missing data:illoqqortoormiut\n",
      "------------------------------ City missing data:taolanaro\n",
      "------------------------------ City missing data:barentsburg\n",
      "------------------------------ City missing data:barentsburg\n",
      "------------------------------ City missing data:belushya guba\n",
      "------------------------------ City missing data:barentsburg\n",
      "150\n",
      "151\n",
      "152\n",
      "153\n",
      "------------------------------ City missing data:illoqqortoormiut\n",
      "154\n",
      "155\n",
      "------------------------------ City missing data:bargal\n",
      "------------------------------ City missing data:belushya guba\n",
      "------------------------------ City missing data:taolanaro\n",
      "------------------------------ City missing data:sahrak\n",
      "156\n",
      "------------------------------ City missing data:illoqqortoormiut\n",
      "------------------------------ City missing data:illoqqortoormiut\n",
      "------------------------------ City missing data:illoqqortoormiut\n",
      "157\n",
      "158\n",
      "------------------------------ City missing data:santa eulalia del rio\n",
      "------------------------------ City missing data:barentsburg\n",
      "159\n",
      "------------------------------ City missing data:barentsburg\n",
      "160\n",
      "------------------------------ City missing data:kazalinsk\n",
      "161\n",
      "162\n",
      "163\n",
      "164\n",
      "------------------------------ City missing data:belushya guba\n",
      "165\n",
      "------------------------------ City missing data:barentsburg\n",
      "166\n",
      "------------------------------ City missing data:barentsburg\n",
      "167\n",
      "------------------------------ City missing data:illoqqortoormiut\n",
      "------------------------------ City missing data:belushya guba\n",
      "168\n",
      "169\n",
      "------------------------------ City missing data:belushya guba\n",
      "170\n",
      "------------------------------ City missing data:barentsburg\n",
      "------------------------------ City missing data:illoqqortoormiut\n",
      "------------------------------ City missing data:karauzyak\n",
      "------------------------------ City missing data:barentsburg\n",
      "171\n",
      "------------------------------ City missing data:belushya guba\n",
      "172\n",
      "173\n",
      "174\n",
      "175\n",
      "------------------------------ City missing data:barentsburg\n",
      "176\n",
      "177\n",
      "178\n",
      "------------------------------ City missing data:barentsburg\n",
      "------------------------------ City missing data:belushya guba\n",
      "------------------------------ City missing data:taolanaro\n",
      "179\n",
      "180\n",
      "181\n",
      "182\n",
      "183\n",
      "------------------------------ City missing data:belushya guba\n",
      "------------------------------ City missing data:belushya guba\n",
      "------------------------------ City missing data:belushya guba\n",
      "184\n",
      "------------------------------ City missing data:barentsburg\n",
      "185\n",
      "------------------------------ City missing data:illoqqortoormiut\n",
      "186\n",
      "------------------------------ City missing data:belushya guba\n",
      "187\n",
      "------------------------------ City missing data:belushya guba\n",
      "------------------------------ City missing data:belushya guba\n",
      "188\n",
      "------------------------------ City missing data:illoqqortoormiut\n",
      "189\n",
      "190\n",
      "191\n",
      "------------------------------ City missing data:illoqqortoormiut\n",
      "192\n",
      "193\n",
      "194\n",
      "195\n",
      "196\n",
      "197\n",
      "198\n",
      "199\n",
      "200\n"
     ]
    }
   ],
   "source": [
    "# Initialize empty lists & city counter\n",
    "city_names=[]\n",
    "lat=[]\n",
    "lon=[]\n",
    "city_count=0\n",
    "\n",
    "temperature=[]\n",
    "humidity=[]\n",
    "cloudiness=[]\n",
    "wind_speed=[]\n",
    "\n",
    "# Setup base url for OpenWeatherMap API call\n",
    "base_url = \"http://api.openweathermap.org/data/2.5/weather?\"\n",
    "\n",
    "\n",
    "\n",
    "\n",
    "# Import numpy random for generating random range of latitude and longitude numbers  \n",
    "from numpy import random\n",
    "\n",
    "# set up while loop that will run until 500 valid city names are generated\n",
    "while city_count<200 :        \n",
    "        #vlatitude values trange from -90 to 90 \n",
    "        rand_lat= -180 + 360 * random.random(1)[0]\n",
    "    \n",
    "        # longitude ranges from -180 to 180  \n",
    "        rand_lon= -90 + 180 * random.random(1)[0]\n",
    "        \n",
    "        rand_city=citipy.nearest_city(rand_lat, rand_lon)\n",
    "        \n",
    "        if rand_city.city_name not in city_names:\n",
    "            \n",
    "            # Build query url based on teh name of the current selected city  \n",
    "            query_url = base_url + \"appid=\" + api_key + \"&q=\" + rand_city.city_name\n",
    "\n",
    "            # Pull data from API and convert to json format  \n",
    "            weather_response = requests.get(query_url)\n",
    "            weather_json = weather_response.json()\n",
    "\n",
    "            try :\n",
    "                # Pull specific itemized data as requested as appedn to corresponding list\n",
    "                temp_F = round(( weather_json['main']['temp'] - 273.15 ) * 9 / 5 + 32, 2)\n",
    "                temperature.append(temp_F)\n",
    "            \n",
    "                humidity_pct = weather_json['main']['humidity']\n",
    "                humidity.append(humidity_pct)\n",
    "           \n",
    "                cloudiness_pct = weather_json['clouds']['all']\n",
    "                cloudiness.append(cloudiness_pct)\n",
    "           \n",
    "                wind = weather_json['wind']['speed']\n",
    "                wind_speed.append(wind)\n",
    "                \n",
    "                lat.append(rand_lat)\n",
    "                lon.append(rand_lon)\n",
    "                city_names.append(rand_city.city_name)\n",
    "                \n",
    "                city_count+=1 \n",
    "                print(city_count)\n",
    "                \n",
    "            except (ValueError, KeyError):\n",
    "                print(f\"------------------------------ City missing data:{rand_city.city_name}\")\n",
    "#                 temperature.append(np.nan)\n",
    "#                 humidity.append(np.nan)\n",
    "#                 cloudiness.append(np.nan)\n",
    "#                 wind_speed.append(np.nan)\n",
    "            \n",
    "            \n",
    "#             print(\"len city_names=\" + str(len(city_names)) + \"|\" + str(city_count) + \" | \" +rand_city.city_name +\" | \"+ str(temp_F) +\" | \"+ str(humidity_pct))\n",
    "\n",
    "            \n",
    "           \n",
    "        else :\n",
    "            \">>>>>    City already sampled\"\n"
   ]
  },
  {
   "cell_type": "code",
   "execution_count": 216,
   "metadata": {},
   "outputs": [
    {
     "data": {
      "text/plain": [
       "Text(0.5, 1.0, 'Location of 1000 sampled cities (in lon&lat coordinates)')"
      ]
     },
     "execution_count": 216,
     "metadata": {},
     "output_type": "execute_result"
    },
    {
     "data": {
      "image/png": "[encoded data removed]",
      "text/plain": [
       "<Figure size 432x288 with 1 Axes>"
      ]
     },
     "metadata": {
      "needs_background": "light"
     },
     "output_type": "display_data"
    }
   ],
   "source": [
    "# Import matplotlib and plot sampled points to check visually for good coverage/diversity \n",
    "import matplotlib.pyplot as plt\n",
    "\n",
    "plt.scatter(lon, lat)\n",
    "plt.xlabel(\"Longitude\")\n",
    "plt.ylabel(\"Latitude\")\n",
    "plt.title(\"Location of 1000 sampled cities (in lon&lat coordinates)\")"
   ]
  },
  {
   "cell_type": "code",
   "execution_count": 219,
   "metadata": {},
   "outputs": [
    {
     "data": {
      "text/plain": [
       "array(['chardara', 'luderitz', 'port alfred', 'svetlyy', 'saint-philippe',\n",
       "       'ushuaia', 'longyearbyen', 'puerto ayacucho', 'beboto',\n",
       "       'walvis bay', 'tasiilaq', 'ponta do sol', 'macae', 'grand baie',\n",
       "       'bredasdorp', 'codrington', 'kidal', 'hermanus', 'east london',\n",
       "       'sept-iles', 'narsaq', 'ponta delgada', 'qaanaaq', 'albany',\n",
       "       'klyuchi', 'qasigiannguit', 'dikson', 'punta arenas', 'baft',\n",
       "       'hit', 'souillac', 'busselton', 'stornoway', 'la rioja',\n",
       "       'grindavik', 'kudahuvadhoo', 'mar del plata', 'aswan',\n",
       "       'vila velha', 'belmonte', 'stephenville', 'adrar', 'mattru',\n",
       "       'arraial do cabo', 'bilma', 'kismayo', 'port elizabeth',\n",
       "       'atlantic city', 'rocha', 'keti bandar', 'taoudenni', 'waddan',\n",
       "       'vestmannaeyjar', 'los llanos de aridane', 'castro', 'upernavik',\n",
       "       'umm kaddadah', 'maragogi', 'awjilah', 'saint-augustin', 'praia',\n",
       "       'bambous virieux', 'ancud', 'torbay', 'jamestown', 'mahibadhoo',\n",
       "       'sao filipe', 'ebbw vale', 'cockburn town', 'lodingen',\n",
       "       'cape town', 'turochak', 'hualmay', 'koszalin', 'rio grande',\n",
       "       'nassau', 'ilulissat', 'kaduy', 'soyo', 'hobyo', 'okitipupa',\n",
       "       'sakakah', 'tingi', 'millau', 'camacha', 'cicciano', 'banda aceh',\n",
       "       'springdale', 'xai-xai', 'carballo', 'victoria', 'malegaon',\n",
       "       'doka', 'suffolk', 'talnakh', 'mormugao', 'mahuta', 'miracema',\n",
       "       'pangnirtung', 'necochea', 'georgetown', 'susehri', 'paamiut',\n",
       "       'bathsheba', 'fort myers beach', 'ilam', 'turukhansk',\n",
       "       'saint-joseph', 'joensuu', 'havelock', 'kargil', 'guatire', 'lebu',\n",
       "       'makat', 'irece', 'kondagaon', 'jacqueville', 'kruisfontein',\n",
       "       'pont-saint-esprit', 'comodoro rivadavia', 'mezen', 'salalah',\n",
       "       'aktau', 'aranos', 'goderich', 'talcahuano', 'la serena',\n",
       "       'mosbach', 'estelle', 'vendome', 'tshikapa', 'ostrovnoy',\n",
       "       'maldonado', 'san carlos de bariloche', 'alta floresta',\n",
       "       'nanortalik', 'colares', 'pionerskiy', 'sisimiut', 'oriximina',\n",
       "       'diffa', 'cidreira', 'cruzeiro', 'chimbote', 'mahebourg', 'arona',\n",
       "       'salinas', 'menzelinsk', 'takoradi', 'santa isabel', 'japura',\n",
       "       'saint-pierre', 'prieska', 'nahrin', 'batouri', 'krasnoselkup',\n",
       "       'lagoa', 'vardo', 'mizan teferi', 'coihaique', 'rakitovo',\n",
       "       'sezana', 'mazamari', 'idil', 'tsabong', 'manga', 'zapolyarnyy',\n",
       "       'barra patuca', 'huarmey', 'yevsino', 'yar-sale', 'gamba',\n",
       "       'olafsvik', 'sorland', 'lusambo', 'araguacu', 'porto novo', 'brae',\n",
       "       'lerwick', 'gazli', 'iqaluit', 'okahandja', 'bridlington',\n",
       "       'ugoofaaru', 'puerto gaitan', 'seshcha', 'sur', 'vestmanna',\n",
       "       'la seyne-sur-mer', 'qurayyat', 'iskateley', 'gilgit', 'beohari',\n",
       "       'ilebo', 'tazovskiy', 'ampanihy', 'bonthe', 'ribeira grande',\n",
       "       'rio gallegos', 'campo grande'], dtype=object)"
      ]
     },
     "execution_count": 219,
     "metadata": {},
     "output_type": "execute_result"
    }
   ],
   "source": [
    "city_data['City name'].unique()"
   ]
  },
  {
   "cell_type": "code",
   "execution_count": 250,
   "metadata": {},
   "outputs": [],
   "source": [
    "# Create dictionary of city names and associated lat, lon coordinates\n",
    "import pandas as pd\n",
    "\n",
    "len(city_names),len(lat),len(lon),len(temperature), len(humidity),len(wind_speed), len(cloudiness)\n",
    "city_dict={\n",
    "    \"City name\": city_names,\n",
    "    'Longitude': lon,\n",
    "    'Latitude': lat,\n",
    "    'Temperature, F': temperature,\n",
    "    'Humidity, %': humidity,\n",
    "    'Cloudiness, %': cloudiness,\n",
    "    'Wind speed, mph': wind_speed\n",
    "}\n",
    "\n",
    "city_data=pd.DataFrame(city_dict)\n",
    "city_data=city_data.sort_values(by=['City name'])\n",
    "city_data['City name'].nunique()\n",
    "\n",
    "# city_data['Hemisphere']=\"\"\n",
    "\n",
    "for index, row in city_data.iterrows():\n",
    "        if row['Latitude']>=0 :\n",
    "            city_data['Hemisphere']=\"Northern\"\n",
    "        else :\n",
    "            city_data['Hemisphere']=\"Southern\"\n"
   ]
  },
  {
   "cell_type": "code",
   "execution_count": 254,
   "metadata": {},
   "outputs": [
    {
     "ename": "TypeError",
     "evalue": "drop() got an unexpected keyword argument 'col'",
     "output_type": "error",
     "traceback": [
      "\u001b[1;31m---------------------------------------------------------------------------\u001b[0m",
      "\u001b[1;31mTypeError\u001b[0m                                 Traceback (most recent call last)",
      "\u001b[1;32m<ipython-input-254-e092531c17dc>\u001b[0m in \u001b[0;36m<module>\u001b[1;34m\u001b[0m\n\u001b[0;32m      1\u001b[0m \u001b[0mcity_data\u001b[0m\u001b[1;33m=\u001b[0m\u001b[0mcity_data\u001b[0m\u001b[1;33m.\u001b[0m\u001b[0msort_values\u001b[0m\u001b[1;33m(\u001b[0m\u001b[0mby\u001b[0m\u001b[1;33m=\u001b[0m\u001b[1;33m[\u001b[0m\u001b[1;34m'Hemisphere'\u001b[0m\u001b[1;33m,\u001b[0m\u001b[1;34m'City name'\u001b[0m\u001b[1;33m]\u001b[0m\u001b[1;33m)\u001b[0m\u001b[1;33m\u001b[0m\u001b[1;33m\u001b[0m\u001b[0m\n\u001b[0;32m      2\u001b[0m \u001b[0mcity_data\u001b[0m\u001b[1;33m.\u001b[0m\u001b[0mreset_index\u001b[0m\u001b[1;33m(\u001b[0m\u001b[1;33m)\u001b[0m\u001b[1;33m\u001b[0m\u001b[1;33m\u001b[0m\u001b[0m\n\u001b[1;32m----> 3\u001b[1;33m \u001b[0mcity_data\u001b[0m\u001b[1;33m.\u001b[0m\u001b[0mdrop\u001b[0m\u001b[1;33m(\u001b[0m\u001b[0mcol\u001b[0m\u001b[1;33m=\u001b[0m\u001b[1;33m[\u001b[0m\u001b[1;34m'index'\u001b[0m\u001b[1;33m]\u001b[0m\u001b[1;33m)\u001b[0m\u001b[1;33m\u001b[0m\u001b[1;33m\u001b[0m\u001b[0m\n\u001b[0m",
      "\u001b[1;31mTypeError\u001b[0m: drop() got an unexpected keyword argument 'col'"
     ]
    }
   ],
   "source": [
    "city_data=city_data.sort_values(by=['Hemisphere','City name'])\n",
    "city_data.reset_index()\n",
    "city_data.drop(col=['index'])"
   ]
  },
  {
   "cell_type": "code",
   "execution_count": 97,
   "metadata": {},
   "outputs": [
    {
     "data": {
      "text/plain": [
       "'http://api.openweathermap.org/data/2.5/weather?appid=0cb0504e124c591594132d882d112599&q=port alfred'"
      ]
     },
     "execution_count": 97,
     "metadata": {},
     "output_type": "execute_result"
    }
   ],
   "source": [
    "# Setup base url for OpenWeatherMap API call\n",
    "base_url = \"http://api.openweathermap.org/data/2.5/weather?\"\n",
    "\n",
    "# Building query URL\n",
    "query_url = base_url + \"appid=\" + api_key + \"&q=\" + city_data['City name'][0]\n",
    "query_url"
   ]
  },
  {
   "cell_type": "code",
   "execution_count": 98,
   "metadata": {},
   "outputs": [
    {
     "name": "stdout",
     "output_type": "stream",
     "text": [
      "{'base': 'stations',\n",
      " 'clouds': {'all': 96},\n",
      " 'cod': 200,\n",
      " 'coord': {'lat': -33.5906, 'lon': 26.891},\n",
      " 'dt': 1621961820,\n",
      " 'id': 964432,\n",
      " 'main': {'feels_like': 291.8,\n",
      "          'grnd_level': 1016,\n",
      "          'humidity': 83,\n",
      "          'pressure': 1018,\n",
      "          'sea_level': 1018,\n",
      "          'temp': 291.72,\n",
      "          'temp_max': 291.72,\n",
      "          'temp_min': 291.72},\n",
      " 'name': 'Port Alfred',\n",
      " 'sys': {'country': 'ZA', 'sunrise': 1621919048, 'sunset': 1621955697},\n",
      " 'timezone': 7200,\n",
      " 'visibility': 10000,\n",
      " 'weather': [{'description': 'overcast clouds',\n",
      "              'icon': '04n',\n",
      "              'id': 804,\n",
      "              'main': 'Clouds'}],\n",
      " 'wind': {'deg': 235, 'gust': 4.71, 'speed': 3.77}}\n"
     ]
    }
   ],
   "source": [
    "# Retriev weather data\n",
    "weather_response = requests.get(query_url)\n",
    "weather_json = weather_response.json()\n",
    "\n",
    "# Review the data API pulled\n",
    "pprint(weather_json)\n",
    "\n",
    "# Below fisrt work on setting up and troubleshooting calls to pull temperature in K \n",
    "# and convert to F, humidity (%), cloudiness (%) and wind speed (mph)"
   ]
  },
  {
   "cell_type": "code",
   "execution_count": 99,
   "metadata": {},
   "outputs": [
    {
     "data": {
      "text/plain": [
       "dict_keys(['coord', 'weather', 'base', 'main', 'visibility', 'wind', 'clouds', 'dt', 'sys', 'timezone', 'id', 'name', 'cod'])"
      ]
     },
     "execution_count": 99,
     "metadata": {},
     "output_type": "execute_result"
    }
   ],
   "source": [
    "weather_json.keys()"
   ]
  },
  {
   "cell_type": "code",
   "execution_count": 100,
   "metadata": {},
   "outputs": [
    {
     "data": {
      "text/plain": [
       "dict_keys(['temp', 'feels_like', 'temp_min', 'temp_max', 'pressure', 'humidity', 'sea_level', 'grnd_level'])"
      ]
     },
     "execution_count": 100,
     "metadata": {},
     "output_type": "execute_result"
    }
   ],
   "source": [
    "weather_json['main'].keys()"
   ]
  },
  {
   "cell_type": "code",
   "execution_count": 101,
   "metadata": {},
   "outputs": [
    {
     "data": {
      "text/plain": [
       "291.72"
      ]
     },
     "execution_count": 101,
     "metadata": {},
     "output_type": "execute_result"
    }
   ],
   "source": [
    "weather_json['main']['temp']"
   ]
  },
  {
   "cell_type": "code",
   "execution_count": 108,
   "metadata": {},
   "outputs": [
    {
     "data": {
      "text/plain": [
       "65.43"
      ]
     },
     "execution_count": 108,
     "metadata": {},
     "output_type": "execute_result"
    }
   ],
   "source": [
    "temp_F= ( weather_json['main']['temp'] - 273.15 ) * 9 / 5 + 32\n",
    "round(temp_F,2)"
   ]
  },
  {
   "cell_type": "code",
   "execution_count": 110,
   "metadata": {},
   "outputs": [
    {
     "data": {
      "text/plain": [
       "83"
      ]
     },
     "execution_count": 110,
     "metadata": {},
     "output_type": "execute_result"
    }
   ],
   "source": [
    "humidity_pct = weather_json['main']['humidity']\n",
    "humidity_pct"
   ]
  },
  {
   "cell_type": "code",
   "execution_count": 112,
   "metadata": {},
   "outputs": [
    {
     "data": {
      "text/plain": [
       "96"
      ]
     },
     "execution_count": 112,
     "metadata": {},
     "output_type": "execute_result"
    }
   ],
   "source": [
    "cloudiness_pct = weather_json['clouds']['all']"
   ]
  },
  {
   "cell_type": "code",
   "execution_count": 113,
   "metadata": {},
   "outputs": [
    {
     "data": {
      "text/plain": [
       "3.77"
      ]
     },
     "execution_count": 113,
     "metadata": {},
     "output_type": "execute_result"
    }
   ],
   "source": [
    "wind_speed = weather_json['wind']['speed']\n",
    "wind_speed"
   ]
  },
  {
   "cell_type": "code",
   "execution_count": null,
   "metadata": {},
   "outputs": [],
   "source": []
  }
 ],
 "metadata": {
  "kernelspec": {
   "display_name": "Python [conda env:root] *",
   "language": "python",
   "name": "conda-root-py"
  },
  "language_info": {
   "codemirror_mode": {
    "name": "ipython",
    "version": 3
   },
   "file_extension": ".py",
   "mimetype": "text/x-python",
   "name": "python",
   "nbconvert_exporter": "python",
   "pygments_lexer": "ipython3",
   "version": "3.8.5"
  }
 },
 "nbformat": 4,
 "nbformat_minor": 4
}
